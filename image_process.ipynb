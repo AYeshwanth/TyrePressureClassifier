{
 "metadata": {
  "name": "",
  "signature": "sha256:7d4ad43f4fb0467ab1f1f889ec01134ef043c8472e3b3f5f94bad025d5d77650"
 },
 "nbformat": 3,
 "nbformat_minor": 0,
 "worksheets": [
  {
   "cells": [
    {
     "cell_type": "code",
     "collapsed": false,
     "input": [
      "import numpy as np\n",
      "import cv2\n",
      "import math\n",
      "import pandas as pd"
     ],
     "language": "python",
     "metadata": {},
     "outputs": [],
     "prompt_number": 1
    },
    {
     "cell_type": "code",
     "collapsed": false,
     "input": [
      "def display(image):\n",
      "    cv2.imshow(\"output\",image)\n",
      "    cv2.waitKey(0) & 0xFF\n",
      "    cv2.destroyAllWindows()"
     ],
     "language": "python",
     "metadata": {},
     "outputs": [],
     "prompt_number": 2
    },
    {
     "cell_type": "code",
     "collapsed": false,
     "input": [
      "def drawcirlce(image, output):\n",
      "    ret, thresh = cv2.threshold(image, 35, 255, 12)\n",
      "    display(thresh)\n",
      "    circles = cv2.HoughCircles(thresh, cv2.HOUGH_GRADIENT, 2, 150, param1=20,param2=150,minRadius=80,maxRadius=120)\n",
      "    centre_x , centre_y = image.shape[1], image.shape[0]\n",
      "    if circles is not None:\n",
      "        circles = np.round(circles[0, :]).astype(\"int\")\n",
      "        for (x, y, r) in circles:\n",
      "            cv2.circle(output, (x, y), r, (255, 0, 0), 4)\n",
      "            centre_x = x\n",
      "            centre_y = y\n",
      "            cv2.rectangle(output, (x - 5, y - 5), (x + 5, y + 5), (255, 0, 0), -1)\n",
      "        #display(output)\n",
      "    return centre_x, centre_y, output "
     ],
     "language": "python",
     "metadata": {},
     "outputs": [],
     "prompt_number": 3
    },
    {
     "cell_type": "code",
     "collapsed": false,
     "input": [
      "def drawlines(image, output, centre_x, centre_y):\n",
      "    im_size = image.shape\n",
      "    b = False\n",
      "    \n",
      "    for i in range(im_size[0]-1, 0, -1):\n",
      "        for j in range(0, im_size[1]):\n",
      "            a = image[i, j]\n",
      "            if a < 50 and j > im_size[1]*0.25 and j < im_size[1]*0.75:\n",
      "                line_y = i\n",
      "                line_x = j\n",
      "                b = True\n",
      "                break\n",
      "        if b:\n",
      "            break\n",
      "\n",
      "    cv2.line(output,(0, line_y),(im_size[1], line_y),(255,255,255),1)\n",
      "    compressed_radius = line_y - centre_y\n",
      "    \n",
      "    for i in range(centre_x-compressed_radius , 0, -1):\n",
      "        a = image[centre_y, i]\n",
      "        if a > 75 or a < 30:\n",
      "            line2_x = i\n",
      "            break\n",
      "        \n",
      "    for i in range(centre_x+compressed_radius, im_size[1]):\n",
      "        a = image[centre_y, i]\n",
      "        if a > 75 or a < 20:\n",
      "            line3_x = i\n",
      "            break\n",
      "\n",
      "    normal_radius = ( line3_x - line2_x ) / 2\n",
      "\n",
      "    cv2.line(output,(line2_x, 0),(line2_x, im_size[0]),(255,255,255),1)\n",
      "    cv2.line(output,(line3_x, 0),(line3_x, im_size[0]),(255,255,255),1)\n",
      "    \n",
      "    return normal_radius, compressed_radius, output"
     ],
     "language": "python",
     "metadata": {},
     "outputs": [],
     "prompt_number": 24
    },
    {
     "cell_type": "code",
     "collapsed": false,
     "input": [
      "def ratio(filename):\n",
      "    image = cv2.imread(filename,0)\n",
      "    display(image)\n",
      "    image = cv2.GaussianBlur(image, (5, 5), 0)\n",
      "    display(image)\n",
      "    output = image.copy()\n",
      "    cx, cy, ci = drawcirlce(image, output)\n",
      "    display(ci)\n",
      "    nr, cr, final = drawlines(image, ci, cx, cy)\n",
      "    display(final)\n",
      "    result = 1.0 * cr / nr\n",
      "    return result"
     ],
     "language": "python",
     "metadata": {},
     "outputs": [],
     "prompt_number": 27
    },
    {
     "cell_type": "code",
     "collapsed": false,
     "input": [
      "ratio('data_final/21.JPG')"
     ],
     "language": "python",
     "metadata": {},
     "outputs": [
      {
       "metadata": {},
       "output_type": "pyout",
       "prompt_number": 28,
       "text": [
        "0.9831932773109243"
       ]
      }
     ],
     "prompt_number": 28
    },
    {
     "cell_type": "code",
     "collapsed": false,
     "input": [
      "count = 0\n",
      "data = pd.read_csv(\"data_90.csv\",delimiter=',')\n",
      "result = data.ix[:,11]\n",
      "#print result"
     ],
     "language": "python",
     "metadata": {},
     "outputs": []
    },
    {
     "cell_type": "code",
     "collapsed": false,
     "input": [
      "count = 0\n",
      "sum = 0\n",
      "\n",
      "for i in range(0,90):\n",
      "    try:\n",
      "        r = ratio('data_final/' + str(i) + '.JPG')\n",
      "        error = r - result[i]\n",
      "        sum += error**2\n",
      "        print r\n",
      "    except:\n",
      "        print 0\n",
      "        count += 1\n",
      "        continue\n",
      "        \n",
      "print count\n",
      "rmsd = math.sqrt(sum/(90-count))\n",
      "print rmsd"
     ],
     "language": "python",
     "metadata": {},
     "outputs": []
    },
    {
     "cell_type": "code",
     "collapsed": false,
     "input": [],
     "language": "python",
     "metadata": {},
     "outputs": []
    },
    {
     "cell_type": "code",
     "collapsed": false,
     "input": [],
     "language": "python",
     "metadata": {},
     "outputs": []
    }
   ],
   "metadata": {}
  }
 ]
}