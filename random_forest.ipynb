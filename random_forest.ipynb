{
 "metadata": {
  "kernelspec": {
   "display_name": "Python 2",
   "language": "python",
   "name": "python2"
  },
  "language_info": {
   "codemirror_mode": {
    "name": "ipython",
    "version": 2
   },
   "file_extension": ".py",
   "mimetype": "text/x-python",
   "name": "python",
   "nbconvert_exporter": "python",
   "pygments_lexer": "ipython2",
   "version": "2.7.11"
  },
  "name": "",
  "signature": "sha256:616d33b89e17980e8407352c0fd6258defcb6b596dd188d4372f0a0fce809adb"
 },
 "nbformat": 3,
 "nbformat_minor": 0,
 "worksheets": [
  {
   "cells": [
    {
     "cell_type": "code",
     "collapsed": false,
     "input": [
      "import pandas as pd\n",
      "import numpy as np\n",
      "from sklearn.ensemble import  RandomForestClassifier\n",
      "from sklearn.metrics import accuracy_score\n",
      "from sklearn.ensemble import AdaBoostClassifier\n",
      "from sklearn.tree import DecisionTreeClassifier\n",
      "from sklearn.metrics import precision_recall_fscore_support\n",
      "from sklearn.neural_network import MLPClassifier"
     ],
     "language": "python",
     "metadata": {},
     "outputs": [],
     "prompt_number": 1
    },
    {
     "cell_type": "code",
     "collapsed": false,
     "input": [
      "df = pd.read_csv(\"data_90.csv\",delimiter=',')\n",
      "df = df.drop('compressed radii', 1)\n",
      "df = df.drop('non compressed radii', 1)\n",
      "df = df.drop('Pressure', 1)"
     ],
     "language": "python",
     "metadata": {},
     "outputs": [],
     "prompt_number": 2
    },
    {
     "cell_type": "code",
     "collapsed": true,
     "input": [
      "rf = RandomForestClassifier(n_estimators=100,max_features=4)\n",
      "#rf = AdaBoostClassifier(DecisionTreeClassifier(max_depth=1),algorithm=\"SAMME\",n_estimators=100)\n",
      "\n",
      "rfi = np.zeros(4)\n",
      "\n",
      "for j in range(2,16):\n",
      "    k = j\n",
      "    fi = np.zeros(4)\n",
      "    sum = 0\n",
      "    for i in range(k):\n",
      "        test = df.ix[i*90/k:(i+1)*90/k - 1, 5:9]\n",
      "        test_y = df.ix[i*90/k:(i+1)*90/k - 1, 9:10]\n",
      "        train = pd.DataFrame()\n",
      "        results = pd.DataFrame()\n",
      "        for j in range(5):\n",
      "            if i != j:\n",
      "                train = pd.concat([train, df.ix[j*90/k:(j+1)*90/k - 1, 5:9]])\n",
      "                results = pd.concat([results, df.ix[j*90/k:(j+1)*90/k - 1, 9:10]])\n",
      "        rf.fit(train,results)\n",
      "        fi += rf.feature_importances_\n",
      "        res = rf.predict(test)\n",
      "        acc = accuracy_score(test_y, res)\n",
      "        sum += acc\n",
      "    print fi/k\n",
      "    rfi += fi/k\n",
      "    print sum*100/k\n",
      "\n",
      "print rfi/14"
     ],
     "language": "python",
     "metadata": {},
     "outputs": [
      {
       "output_type": "stream",
       "stream": "stdout",
       "text": [
        "[ 0.12038847  0.08986802  0.          0.78974351]\n",
        "58.8888888889\n",
        "[ 0.11586659  0.17069633  0.01132292  0.70211416]"
       ]
      },
      {
       "output_type": "stream",
       "stream": "stdout",
       "text": [
        "\n",
        "56.6666666667\n",
        "[ 0.10714985  0.20647507  0.00871997  0.67765511]"
       ]
      },
      {
       "output_type": "stream",
       "stream": "stdout",
       "text": [
        "\n",
        "58.8438735178\n",
        "[ 0.1337714   0.16905197  0.00968667  0.68748996]"
       ]
      },
      {
       "output_type": "stream",
       "stream": "stdout",
       "text": [
        "\n",
        "56.6666666667\n",
        "[ 0.11684303  0.16011674  0.01336058  0.70967965]"
       ]
      },
      {
       "output_type": "stream",
       "stream": "stdout",
       "text": [
        "\n",
        "55.5555555556\n",
        "[ 0.0889692   0.20844425  0.01783038  0.68475617]"
       ]
      },
      {
       "output_type": "stream",
       "stream": "stdout",
       "text": [
        "\n",
        "53.2967032967\n",
        "[ 0.12572003  0.17001153  0.01597737  0.68829106]"
       ]
      },
      {
       "output_type": "stream",
       "stream": "stdout",
       "text": [
        "\n",
        "56.4393939394\n",
        "[ 0.13426543  0.20835464  0.00419483  0.6531851 ]"
       ]
      },
      {
       "output_type": "stream",
       "stream": "stdout",
       "text": [
        "\n",
        "54.4444444444\n",
        "[ 0.11592257  0.17808298  0.00532694  0.7006675 ]"
       ]
      },
      {
       "output_type": "stream",
       "stream": "stdout",
       "text": [
        "\n",
        "54.4444444444\n",
        "[ 0.07655977  0.17014258  0.00302809  0.75026956]"
       ]
      },
      {
       "output_type": "stream",
       "stream": "stdout",
       "text": [
        "\n",
        "55.4292929293\n",
        "[ 0.10713393  0.13977881  0.00435779  0.74872946]"
       ]
      },
      {
       "output_type": "stream",
       "stream": "stdout",
       "text": [
        "\n",
        "55.0595238095\n",
        "[ 0.12907794  0.14917853  0.00212498  0.71961855]"
       ]
      },
      {
       "output_type": "stream",
       "stream": "stdout",
       "text": [
        "\n",
        "50.9157509158\n",
        "[ 0.15785377  0.12501215  0.00439659  0.71273748]"
       ]
      },
      {
       "output_type": "stream",
       "stream": "stdout",
       "text": [
        "\n",
        "51.3605442177\n",
        "[ 0.16736873  0.08098732  0.0045817   0.74706225]"
       ]
      },
      {
       "output_type": "stream",
       "stream": "stdout",
       "text": [
        "\n",
        "44.4444444444\n",
        "[ 0.12120648  0.15901435  0.00749349  0.71228568]\n"
       ]
      },
      {
       "output_type": "stream",
       "stream": "stderr",
       "text": [
        "/usr/local/lib/python2.7/dist-packages/sklearn/utils/validation.py:526: DataConversionWarning: A column-vector y was passed when a 1d array was expected. Please change the shape of y to (n_samples, ), for example using ravel().\n",
        "  y = column_or_1d(y, warn=True)\n"
       ]
      }
     ],
     "prompt_number": 4
    },
    {
     "cell_type": "code",
     "collapsed": true,
     "input": [
      "#print type(res)\n",
      "#print results\n",
      "#print len(res)\n",
      "#print \"Accuracy :\",\n",
      "#print acc\n",
      "print \"Precision Recall F1Score\"\n",
      "print precision_recall_fscore_support(test_y, res, average='macro')\n",
      "#print acc\n",
      "print rf.feature_importances_\n",
      "#print rf.oob_score"
     ],
     "language": "python",
     "metadata": {},
     "outputs": [
      {
       "output_type": "stream",
       "stream": "stdout",
       "text": [
        "Precision Recall F1Score\n",
        "(0.375, 0.375, 0.33333333333333331, None)\n",
        "<type 'numpy.ndarray'>\n"
       ]
      }
     ],
     "prompt_number": 8
    },
    {
     "cell_type": "code",
     "collapsed": false,
     "input": [],
     "language": "python",
     "metadata": {},
     "outputs": []
    }
   ],
   "metadata": {}
  }
 ]
}