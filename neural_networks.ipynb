{
 "metadata": {
  "name": "",
  "signature": "sha256:ffc3d1cd05c0961f999a26381db8ee29a517594576adb8ce8bd44adb3db0da04"
 },
 "nbformat": 3,
 "nbformat_minor": 0,
 "worksheets": [
  {
   "cells": [
    {
     "cell_type": "code",
     "collapsed": false,
     "input": [
      "import pandas as pd\n",
      "from sklearn.metrics import accuracy_score\n",
      "from sklearn.neural_network import MLPClassifier\n",
      "from sklearn.model_selection import train_test_split"
     ],
     "language": "python",
     "metadata": {},
     "outputs": [],
     "prompt_number": 6
    },
    {
     "cell_type": "code",
     "collapsed": false,
     "input": [
      "df = pd.read_csv(\"data_90.csv\",delimiter=',')\n",
      "\n",
      "df = df.drop('compressed radii', 1)\n",
      "df = df.drop('non compressed radii', 1)\n",
      "df = df.drop('Pressure', 1)"
     ],
     "language": "python",
     "metadata": {},
     "outputs": [],
     "prompt_number": 7
    },
    {
     "cell_type": "code",
     "collapsed": false,
     "input": [
      "clf = MLPClassifier(solver='lbfgs', alpha=1e-5,hidden_layer_sizes=(10, 4), random_state=1)\n",
      "\n",
      "for j in range(2,16):\n",
      "    k = j\n",
      "    sum = 0\n",
      "    for i in range(k):\n",
      "        test = df.ix[i*90/k:(i+1)*90/k - 1, 5:9]\n",
      "        test_y = df.ix[i*90/k:(i+1)*90/k - 1, 9:10]\n",
      "        train = pd.DataFrame()\n",
      "        results = pd.DataFrame()\n",
      "        for j in range(5):\n",
      "            if i != j:\n",
      "                train = pd.concat([train, df.ix[j*90/k:(j+1)*90/k - 1, 5:9]])\n",
      "                results = pd.concat([results, df.ix[j*90/k:(j+1)*90/k - 1, 9:10]])\n",
      "        clf.fit(train,results)\n",
      "        res = clf.predict(test)\n",
      "        acc = accuracy_score(test_y, res)\n",
      "        sum += acc\n",
      "    print sum*100/k"
     ],
     "language": "python",
     "metadata": {},
     "outputs": [
      {
       "output_type": "stream",
       "stream": "stdout",
       "text": [
        "63.3333333333\n",
        "67.7777777778"
       ]
      },
      {
       "output_type": "stream",
       "stream": "stdout",
       "text": [
        "\n",
        "65.4150197628"
       ]
      },
      {
       "output_type": "stream",
       "stream": "stdout",
       "text": [
        "\n",
        "67.7777777778"
       ]
      },
      {
       "output_type": "stream",
       "stream": "stdout",
       "text": [
        "\n",
        "65.5555555556"
       ]
      },
      {
       "output_type": "stream",
       "stream": "stdout",
       "text": [
        "\n",
        "61.1721611722"
       ]
      },
      {
       "output_type": "stream",
       "stream": "stdout",
       "text": [
        "\n",
        "64.1098484848"
       ]
      },
      {
       "output_type": "stream",
       "stream": "stdout",
       "text": [
        "\n",
        "64.4444444444"
       ]
      },
      {
       "output_type": "stream",
       "stream": "stdout",
       "text": [
        "\n",
        "65.5555555556"
       ]
      },
      {
       "output_type": "stream",
       "stream": "stdout",
       "text": [
        "\n",
        "65.1515151515"
       ]
      },
      {
       "output_type": "stream",
       "stream": "stdout",
       "text": [
        "\n",
        "65.9226190476"
       ]
      },
      {
       "output_type": "stream",
       "stream": "stdout",
       "text": [
        "\n",
        "59.3406593407"
       ]
      },
      {
       "output_type": "stream",
       "stream": "stdout",
       "text": [
        "\n",
        "58.843537415"
       ]
      },
      {
       "output_type": "stream",
       "stream": "stdout",
       "text": [
        "\n",
        "58.8888888889"
       ]
      },
      {
       "output_type": "stream",
       "stream": "stdout",
       "text": [
        "\n"
       ]
      }
     ],
     "prompt_number": 8
    },
    {
     "cell_type": "code",
     "collapsed": false,
     "input": [],
     "language": "python",
     "metadata": {},
     "outputs": []
    }
   ],
   "metadata": {}
  }
 ]
}